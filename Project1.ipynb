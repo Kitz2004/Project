{
 "cells": [
  {
   "cell_type": "code",
   "execution_count": null,
   "id": "a2280ada-dedb-4b26-a951-89f77da24186",
   "metadata": {},
   "outputs": [],
   "source": [
    "# Sample data cleaning code\n",
    "import pandas as pd\n",
    "\n",
    "def clean_data(orders_path, returns_path):\n",
    "    # Load datasets\n",
    "    orders = pd.read_csv(\"C:/Users/khasi/OneDrive/Desktop/elevate labs/Tasks/orders.csv\")\n",
    "    returns = pd.read_csv(\"C:/Users/khasi/OneDrive/Desktop/elevate labs/Tasks/returns.csv\")\n",
    "    \n",
    "    # Merge datasets\n",
    "    merged = pd.merge(orders, returns, on='order_id', how='left')\n",
    "    \n",
    "    # Create return flag\n",
    "    merged['is_returned'] = merged['return_id'].notna().astype(int)\n",
    "    \n",
    "    # Handle missing values\n",
    "    merged.fillna({'return_reason': 'no_return'}, inplace=True)\n",
    "    \n",
    "    # Convert dates\n",
    "    merged['order_date'] = pd.to_datetime(merged['order_date'])\n",
    "    merged['return_date'] = pd.to_datetime(merged['return_date'])\n",
    "    \n",
    "    return merged"
   ]
  },
  {
   "cell_type": "code",
   "execution_count": 7,
   "id": "402c52e3-3268-45dd-a33d-384c9e1cd08c",
   "metadata": {},
   "outputs": [],
   "source": [
    "# Sample analysis code\n",
    "def analyze_returns(data):\n",
    "    # Category analysis\n",
    "    category_returns = data.groupby('category')['is_returned'].mean().sort_values(ascending=False)\n",
    "    \n",
    "    # Supplier analysis\n",
    "    supplier_returns = data.groupby('supplier_id')['is_returned'].agg(['mean', 'count'])\n",
    "    supplier_returns = supplier_returns[supplier_returns['count'] > 100].sort_values('mean', ascending=False)\n",
    "    \n",
    "    # Geographic analysis\n",
    "    geo_returns = data.groupby('customer_state')['is_returned'].mean().sort_values(ascending=False)\n",
    "    \n",
    "    return {\n",
    "        'category_returns': category_returns,\n",
    "        'supplier_returns': supplier_returns,\n",
    "        'geo_returns': geo_returns\n",
    "    }"
   ]
  },
  {
   "cell_type": "code",
   "execution_count": 8,
   "id": "ebc0b137-9dfe-42da-8c7e-0ee00014a242",
   "metadata": {},
   "outputs": [],
   "source": [
    "from sklearn.linear_model import LogisticRegression\n",
    "from sklearn.model_selection import train_test_split\n",
    "from sklearn.metrics import classification_report\n",
    "\n",
    "def build_model(data):\n",
    "    # Feature engineering\n",
    "    X = data[['category', 'price', 'supplier_rating', 'customer_tenure', \n",
    "              'marketing_channel', 'delivery_days']]\n",
    "    X = pd.get_dummies(X, columns=['category', 'marketing_channel'])\n",
    "    \n",
    "    y = data['is_returned']\n",
    "    \n",
    "    # Train-test split\n",
    "    X_train, X_test, y_train, y_test = train_test_split(X, y, test_size=0.2)\n",
    "    \n",
    "    # Model training\n",
    "    model = LogisticRegression(max_iter=1000)\n",
    "    model.fit(X_train, y_train)\n",
    "    \n",
    "    # Evaluation\n",
    "    y_pred = model.predict(X_test)\n",
    "    print(classification_report(y_test, y_pred))\n",
    "    \n",
    "    return model"
   ]
  },
  {
   "cell_type": "code",
   "execution_count": null,
   "id": "35f26fa2-2322-4929-928f-a586aa46a38f",
   "metadata": {},
   "outputs": [],
   "source": []
  }
 ],
 "metadata": {
  "kernelspec": {
   "display_name": "Python 3 (ipykernel)",
   "language": "python",
   "name": "python3"
  },
  "language_info": {
   "codemirror_mode": {
    "name": "ipython",
    "version": 3
   },
   "file_extension": ".py",
   "mimetype": "text/x-python",
   "name": "python",
   "nbconvert_exporter": "python",
   "pygments_lexer": "ipython3",
   "version": "3.11.7"
  }
 },
 "nbformat": 4,
 "nbformat_minor": 5
}
